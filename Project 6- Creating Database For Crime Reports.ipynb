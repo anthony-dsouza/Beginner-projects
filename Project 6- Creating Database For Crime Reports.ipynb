{
 "cells": [
  {
   "cell_type": "markdown",
   "metadata": {},
   "source": [
    "# Building a database for crime reports\n",
    "\n",
    "The goal of this project is to create a database named `crimes_db` with a table `boston_crimes` with appropriate datatypes for storing the data from the `boston.csv` file. The table will be created inside a schema named `crimes`.\n",
    "\n",
    "We will also create `readonly` and `readwrite` groups with the appropriate privileges and create a user for each group.\n",
    "\n",
    "The first two rows from the `boston.csv` dataset are shown here:\n",
    "\n",
    "| incident_number | offense_code |     description    |    date    | day_of_the_week |     lat     |     long     |\n",
    "|:---------------:|:------------:|:------------------:|:----------:|:---------------:|:-----------:|:------------:|\n",
    "| 1               | 619          | LARCENY ALL OTHERS | 2018-09-02 | Sunday          | 42.35779134 | -71.13937053 |\n",
    "| 2               | 1402         | VANDALISM          | 2018-08-21 | Tuesday         | 42.30682138 | -71.06030035 |\n",
    "\n",
    "The first column represents the identifier of the crime. The second contains a numeric identifier code for the committed crime. The third represents a description of the crime. The next two rows contain the date on which the crime happened and the corresponding day of the week. Finally, the last two columns represent the location of the crime with a latitude and longitude coordinates.\n",
    "\n",
    "## Database And Schema\n",
    "\n",
    "We will now create a database called `crime_db` with a schema called `crimes`:"
   ]
  },
  {
   "cell_type": "code",
   "execution_count": 1,
   "metadata": {},
   "outputs": [],
   "source": [
    "import psycopg2\n",
    "conn = psycopg2.connect(dbname='dq', user='dq')\n",
    "conn.autocommit = True\n",
    "cur = conn.cursor()\n",
    "cur.execute(\"CREATE DATABASE crime_db;\")\n",
    "conn.autocommit = False\n",
    "conn.close()\n",
    "conn = psycopg2.connect(dbname='crime_db', user='dq')\n",
    "cur = conn.cursor()\n",
    "cur.execute(\"CREATE SCHEMA crimes;\")\n",
    "conn.commit()\n",
    "conn.close()"
   ]
  },
  {
   "cell_type": "markdown",
   "metadata": {},
   "source": [
    "We will now open the `boston.csv` file to view column names and the first row."
   ]
  },
  {
   "cell_type": "code",
   "execution_count": 2,
   "metadata": {},
   "outputs": [
    {
     "name": "stdout",
     "output_type": "stream",
     "text": [
      "['incident_number', 'offense_code', 'description', 'date', 'day_of_the_week', 'lat', 'long']\n",
      "['1', '619', 'LARCENY ALL OTHERS', '2018-09-02', 'Sunday', '42.35779134', '-71.13937053']\n"
     ]
    }
   ],
   "source": [
    "import csv\n",
    "with open('boston.csv', 'r') as f:\n",
    "    reader = csv.reader(f)\n",
    "    boston = []\n",
    "    for row in reader:\n",
    "        boston.append(row)\n",
    "    header = boston[0]\n",
    "    first_row = boston[1]\n",
    "    print(header)\n",
    "    print(first_row)"
   ]
  },
  {
   "cell_type": "markdown",
   "metadata": {},
   "source": [
    "## Column Datatypes\n",
    "\n",
    "We will create a function that will create a set of unique values for a column. We can use this to determine whether we can use an enumerated datatype or compute the maximum length of any text like column to select the right `VARCHAR` value."
   ]
  },
  {
   "cell_type": "code",
   "execution_count": 3,
   "metadata": {},
   "outputs": [
    {
     "name": "stdout",
     "output_type": "stream",
     "text": [
      "incident_number 298329\n",
      "offense_code 219\n",
      "description 239\n",
      "date 1177\n",
      "day_of_the_week 7\n",
      "lat 18177\n",
      "long 18177\n"
     ]
    }
   ],
   "source": [
    "def get_col_value_set(csv_filename, col_index):\n",
    "    with open(csv_filename, 'r') as f:\n",
    "        reader = csv.reader(f)\n",
    "        next(reader)\n",
    "        list = set()\n",
    "        for row in reader:\n",
    "            value = row[col_index]\n",
    "            list.add(value)\n",
    "        return list\n",
    "\n",
    "for i in range(len(header)):\n",
    "    values = get_col_value_set('boston.csv', i)\n",
    "    print(header[i], len(values))"
   ]
  },
  {
   "cell_type": "markdown",
   "metadata": {},
   "source": [
    "We will now find the length of the longest text in the description column:"
   ]
  },
  {
   "cell_type": "code",
   "execution_count": 4,
   "metadata": {},
   "outputs": [
    {
     "name": "stdout",
     "output_type": "stream",
     "text": [
      "58\n"
     ]
    }
   ],
   "source": [
    "des_values = get_col_value_set('boston.csv', 2)\n",
    "max_length = 0\n",
    "for value in des_values:\n",
    "    if max_length < len(value):\n",
    "        max_length = len(value)\n",
    "print(max_length)"
   ]
  },
  {
   "cell_type": "markdown",
   "metadata": {},
   "source": [
    "The max length for description in 50 characters. We will set VARCHAR to 100 just incase there may be longer descriptions in the future.\n",
    "\n",
    "The day_of_the_week column can have an enumerated datatype because it only has 7 fixed values."
   ]
  },
  {
   "cell_type": "code",
   "execution_count": 5,
   "metadata": {},
   "outputs": [],
   "source": [
    "conn = psycopg2.connect(dbname='crime_db', user='dq')\n",
    "cur = conn.cursor()\n",
    "cur.execute(\"\"\"CREATE TYPE days AS ENUM (\n",
    "            'Monday', \n",
    "            'Tuesday', \n",
    "            'Wednesday', \n",
    "            'Thursday', \n",
    "            'Friday', \n",
    "            'Saturday', \n",
    "            'Sunday'\n",
    "            );\n",
    "\"\"\")\n",
    "conn.commit()\n",
    "conn.close()"
   ]
  },
  {
   "cell_type": "markdown",
   "metadata": {},
   "source": [
    "We will have a look at the values in the incident_number columns:"
   ]
  },
  {
   "cell_type": "code",
   "execution_count": 6,
   "metadata": {},
   "outputs": [
    {
     "name": "stdout",
     "output_type": "stream",
     "text": [
      "21\n",
      "298329\n"
     ]
    }
   ],
   "source": [
    "incident_values = []\n",
    "with open('boston.csv', 'r') as f:\n",
    "    reader = csv.reader(f)\n",
    "    next(reader)\n",
    "    for row in reader:\n",
    "        incident_values.append(row[0])\n",
    "print(incident_values[20])\n",
    "print(incident_values[-1])"
   ]
  },
  {
   "cell_type": "markdown",
   "metadata": {},
   "source": [
    "We can see that the incident_number auto increments for every entry. We also saw that the number of unique values were 298329 which corresponds with the last entry. \n",
    "\n",
    "The incident_number column can have a integer datatype because of the range of 1 to 2147483647.\n",
    "\n",
    "We will now look for the longest offense_code value:"
   ]
  },
  {
   "cell_type": "code",
   "execution_count": 7,
   "metadata": {},
   "outputs": [
    {
     "name": "stdout",
     "output_type": "stream",
     "text": [
      "4\n"
     ]
    }
   ],
   "source": [
    "offense_values = get_col_value_set('boston.csv', 1)\n",
    "max_length = 0\n",
    "for value in offense_values:\n",
    "    if max_length < len(value):\n",
    "        max_length = len(value)\n",
    "print(max_length)"
   ]
  },
  {
   "cell_type": "markdown",
   "metadata": {},
   "source": [
    "The offense_code column has a maximum of 4 digits and 219 unique values. We can rule out a enumerated datatype because there could be more offense codes.\n",
    "\n",
    "The offense_code column could have the datatype smallint as it only takes up 2 bytes and has a range of -32768 to +32767.\n",
    "\n",
    "The date column will have the datatype date as it follows the recommended format.\n",
    "\n",
    "We will find the maximum and minimum values for the longitude and latitude columns:"
   ]
  },
  {
   "cell_type": "code",
   "execution_count": 8,
   "metadata": {},
   "outputs": [
    {
     "name": "stdout",
     "output_type": "stream",
     "text": [
      "Latitude: 42.2324133 - 42.39504158\n",
      "Longitude: -70.96367615 - -71.17867378\n"
     ]
    }
   ],
   "source": [
    "lat_values = []\n",
    "long_values = []\n",
    "with open('boston.csv', 'r') as f:\n",
    "    reader = csv.reader(f)\n",
    "    next(reader)\n",
    "    for row in reader:\n",
    "        long_values.append(row[-1])\n",
    "        lat_values.append(row[-2])      \n",
    "print('Latitude: ' + min(lat_values) + ' - ' + max(lat_values))\n",
    "print('Longitude: ' + min(long_values) + ' - ' + max(long_values))"
   ]
  },
  {
   "cell_type": "markdown",
   "metadata": {},
   "source": [
    "We can use a decimal datatype for the lat and long column.\n",
    "\n",
    "| Column Name | Datatype |\n",
    "|---|---|\n",
    "| incident_number | integer |\n",
    "| offense_code | smallint |\n",
    "| description | varchar(100) |\n",
    "| date | date |\n",
    "| day_of_the_week | enumarated |\n",
    "| lat | decimal |\n",
    "| long | decimal |\n",
    "\n",
    "\n",
    "## Creating And Loading Table"
   ]
  },
  {
   "cell_type": "code",
   "execution_count": 9,
   "metadata": {},
   "outputs": [],
   "source": [
    "conn = psycopg2.connect(dbname='crime_db', user='dq')\n",
    "cur = conn.cursor()\n",
    "cur.execute(\"\"\"CREATE TABLE crimes.boston_crimes (\n",
    "            incident_number INTEGER PRIMARY KEY,\n",
    "            offense_code SMALLINT,\n",
    "            description VARCHAR(100),\n",
    "            date DATE,\n",
    "            day_of_the_week DAYS,\n",
    "            lat decimal,\n",
    "            long decimal\n",
    "            );\n",
    "\"\"\")\n",
    "conn.commit()\n",
    "conn.close()"
   ]
  },
  {
   "cell_type": "markdown",
   "metadata": {},
   "source": [
    "We have created the table `boston_crimes` above with the appropriate datatypes. We will now load the boston.csv file into the table."
   ]
  },
  {
   "cell_type": "code",
   "execution_count": 10,
   "metadata": {
    "collapsed": true
   },
   "outputs": [],
   "source": [
    "conn = psycopg2.connect(dbname='crime_db', user='dq')\n",
    "cur = conn.cursor()\n",
    "with open('boston.csv') as f:\n",
    "    cur.copy_expert(\"\"\"COPY crimes.boston_crimes \n",
    "                    FROM STDIN WITH CSV HEADER;\"\"\", f)   \n",
    "conn.commit()\n",
    "conn.close()"
   ]
  },
  {
   "cell_type": "code",
   "execution_count": 11,
   "metadata": {},
   "outputs": [
    {
     "name": "stdout",
     "output_type": "stream",
     "text": [
      "(1, 619, 'LARCENY ALL OTHERS', datetime.date(2018, 9, 2), 'Sunday', Decimal('42.35779134'), Decimal('-71.13937053'))\n"
     ]
    }
   ],
   "source": [
    "conn = psycopg2.connect(dbname='crime_db', user='dq')\n",
    "cur = conn.cursor()\n",
    "cur.execute(\"\"\"SELECT * FROM crimes.boston_crimes;\"\"\")\n",
    "print(cur.fetchone())\n",
    "conn.close()"
   ]
  },
  {
   "cell_type": "markdown",
   "metadata": {},
   "source": [
    "## Revoking Public Privileges"
   ]
  },
  {
   "cell_type": "code",
   "execution_count": 12,
   "metadata": {
    "collapsed": true
   },
   "outputs": [],
   "source": [
    "conn = psycopg2.connect(dbname='crime_db', user='dq')\n",
    "cur = conn.cursor()\n",
    "cur.execute(\"\"\"REVOKE ALL ON SCHEMA public FROM public;\"\"\")\n",
    "cur.execute(\"\"\"REVOKE ALL ON DATABASE crime_db FROM public;\"\"\")\n",
    "conn.commit()\n",
    "conn.close()"
   ]
  },
  {
   "cell_type": "markdown",
   "metadata": {},
   "source": [
    "## Readonly Group\n",
    "\n",
    "We will create a group called readonly and grant connection, usage and privileges."
   ]
  },
  {
   "cell_type": "code",
   "execution_count": 38,
   "metadata": {},
   "outputs": [],
   "source": [
    "conn = psycopg2.connect(dbname='crime_db', user='dq')\n",
    "cur = conn.cursor()\n",
    "cur.execute(\"\"\"CREATE GROUP readonly NOLOGIN;\"\"\")\n",
    "cur.execute(\"\"\"GRANT CONNECT ON DATABASE crime_db TO readonly;\"\"\")\n",
    "cur.execute(\"\"\"GRANT USAGE ON SCHEMA crimes TO readonly;\"\"\")\n",
    "cur.execute(\"\"\"GRANT SELECT ON ALL TABLES IN SCHEMA crimes TO readonly;\"\"\")\n",
    "conn.commit()\n",
    "conn.close()"
   ]
  },
  {
   "cell_type": "markdown",
   "metadata": {},
   "source": [
    "## Readwrite Group"
   ]
  },
  {
   "cell_type": "code",
   "execution_count": 40,
   "metadata": {},
   "outputs": [],
   "source": [
    "conn = psycopg2.connect(dbname='crime_db', user='dq')\n",
    "cur = conn.cursor()\n",
    "cur.execute(\"\"\"CREATE GROUP readwrite NOLOGIN;\"\"\")\n",
    "cur.execute(\"\"\"GRANT CONNECT ON DATABASE crime_db TO readwrite;\"\"\")\n",
    "cur.execute(\"\"\"GRANT USAGE ON SCHEMA crimes TO readwrite;\"\"\")\n",
    "cur.execute(\"\"\"GRANT SELECT, INSERT, DELETE, UPDATE ON ALL TABLES IN SCHEMA crimes TO readwrite;\"\"\")\n",
    "conn.commit()\n",
    "conn.close()"
   ]
  },
  {
   "cell_type": "markdown",
   "metadata": {
    "collapsed": true
   },
   "source": [
    "## Users\n",
    "\n",
    "We will now create a user called `data_analyst` for the `readonly` group and a user called `data_scientist` for the `readwrite` group."
   ]
  },
  {
   "cell_type": "code",
   "execution_count": 26,
   "metadata": {},
   "outputs": [],
   "source": [
    "import psycopg2\n",
    "conn = psycopg2.connect(dbname='crime_db', user='dq')\n",
    "cur = conn.cursor()\n",
    "cur.execute(\"CREATE USER data_analyst WITH PASSWORD 'secret1';\")\n",
    "cur.execute(\"CREATE USER data_scientist WITH PASSWORD 'secret2';\")\n",
    "cur.execute(\"GRANT readonly TO data_analyst;\")\n",
    "cur.execute(\"GRANT readwrite TO data_scientist;\")\n",
    "conn.commit()\n",
    "conn.close()"
   ]
  },
  {
   "cell_type": "markdown",
   "metadata": {},
   "source": [
    "## Testing\n",
    "\n",
    "We will see what privileges have been granted our groups by looking at the `information_schema.table_privileges` table."
   ]
  },
  {
   "cell_type": "code",
   "execution_count": 44,
   "metadata": {},
   "outputs": [
    {
     "name": "stdout",
     "output_type": "stream",
     "text": [
      "('readwrite', 'INSERT')\n",
      "('readwrite', 'SELECT')\n",
      "('readwrite', 'UPDATE')\n",
      "('readwrite', 'DELETE')\n",
      "('readonly', 'SELECT')\n"
     ]
    }
   ],
   "source": [
    "conn = psycopg2.connect(dbname='crime_db', user='dq')\n",
    "cur = conn.cursor()\n",
    "cur.execute(\"\"\"\n",
    "            SELECT grantee, privilege_type \n",
    "            FROM information_schema.table_privileges\n",
    "            WHERE grantee IN ('readwrite', 'readonly')\n",
    "            ;\n",
    "        \"\"\")\n",
    "privileges = cur.fetchall()\n",
    "conn.close()\n",
    "for row in privileges:\n",
    "    print(row)"
   ]
  },
  {
   "cell_type": "markdown",
   "metadata": {},
   "source": [
    "We will see the users have been created on our database by viewing the `pg_role` table.\n",
    "\n",
    "- rolname: Role name\n",
    "- rolsuper: Role has superuser privileges\n",
    "- rolcreaterole: Role can create more roles\n",
    "- rolcreatedb: Role can create databases\n",
    "- rolcanlogin: Role can log in. That is, this role can be given as the initial session authorization identifier\n",
    "- rolpassword: Not the password (always reads as ********)"
   ]
  },
  {
   "cell_type": "code",
   "execution_count": 52,
   "metadata": {},
   "outputs": [
    {
     "name": "stdout",
     "output_type": "stream",
     "text": [
      "['rolname', 'rolsuper', 'rolcreaterole', 'rolcreatedb', 'rolcanlogin', 'rolpassword']\n",
      "('dq', True, True, True, True, '********')\n",
      "('readonly', False, False, False, False, '********')\n",
      "('readwrite', False, False, False, False, '********')\n",
      "('data_analyst', False, False, False, True, '********')\n",
      "('data_scientist', False, False, False, True, '********')\n"
     ]
    }
   ],
   "source": [
    "conn = psycopg2.connect(dbname='crime_db', user='dq')\n",
    "cur = conn.cursor()\n",
    "cur.execute(\"\"\"\n",
    "            SELECT \n",
    "            rolname,\n",
    "            rolsuper,\n",
    "            rolcreaterole,\n",
    "            rolcreatedb,\n",
    "            rolcanlogin,\n",
    "            rolpassword\n",
    "            FROM pg_roles\n",
    "            ;\n",
    "        \"\"\")\n",
    "users = cur.fetchall()\n",
    "conn.close()\n",
    "print(['rolname', 'rolsuper',\n",
    "            'rolcreaterole',\n",
    "            'rolcreatedb',\n",
    "            'rolcanlogin',\n",
    "            'rolpassword'])\n",
    "for row in users:\n",
    "    print(row)"
   ]
  },
  {
   "cell_type": "markdown",
   "metadata": {},
   "source": [
    "We will now look at groups and see what users they have assigned to them."
   ]
  },
  {
   "cell_type": "code",
   "execution_count": 63,
   "metadata": {},
   "outputs": [
    {
     "name": "stdout",
     "output_type": "stream",
     "text": [
      "['GROUP', 'USER']\n",
      "('readonly', 'data_analyst')\n",
      "('readwrite', 'data_scientist')\n"
     ]
    }
   ],
   "source": [
    "conn = psycopg2.connect(dbname='crime_db', user='dq')\n",
    "cur = conn.cursor()\n",
    "cur.execute(\"\"\"\n",
    "            SELECT\n",
    "                pg_roles.rolname,\n",
    "                pg_user.usename\n",
    "            FROM pg_user \n",
    "            JOIN pg_auth_members ON (pg_user.usesysid=pg_auth_members.member) \n",
    "            JOIN pg_roles ON (pg_roles.oid=pg_auth_members.roleid) \n",
    "            WHERE pg_roles.rolname IN ('readonly', 'readwrite')\n",
    "            ;\n",
    "        \"\"\")\n",
    "groups = cur.fetchall()\n",
    "conn.close()\n",
    "print(['GROUP', 'USER'])\n",
    "for row in groups:\n",
    "    print(row)"
   ]
  }
 ],
 "metadata": {
  "kernelspec": {
   "display_name": "Python 3",
   "language": "python",
   "name": "python3"
  },
  "language_info": {
   "codemirror_mode": {
    "name": "ipython",
    "version": 3
   },
   "file_extension": ".py",
   "mimetype": "text/x-python",
   "name": "python",
   "nbconvert_exporter": "python",
   "pygments_lexer": "ipython3",
   "version": "3.7.4"
  }
 },
 "nbformat": 4,
 "nbformat_minor": 2
}
